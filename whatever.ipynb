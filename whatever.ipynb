{
 "cells": [
  {
   "cell_type": "code",
   "execution_count": 1,
   "id": "088d82a2-6b97-407c-bb6e-31a87a5ab805",
   "metadata": {},
   "outputs": [],
   "source": [
    "import pandas as pd\n",
    "from sklearn.model_selection import TimeSeriesSplit "
   ]
  },
  {
   "cell_type": "code",
   "execution_count": 2,
   "id": "282e9e1a-5d63-4050-83b2-e44db30f9254",
   "metadata": {},
   "outputs": [
    {
     "name": "stderr",
     "output_type": "stream",
     "text": [
      "/tmp/ipykernel_68341/2035224249.py:1: DtypeWarning: Columns (7) have mixed types. Specify dtype option on import or set low_memory=False.\n",
      "  df = pd.read_csv('test_latest_4m.csv')\n"
     ]
    }
   ],
   "source": [
    "df = pd.read_csv('test_latest_4m.csv')"
   ]
  },
  {
   "cell_type": "code",
   "execution_count": 7,
   "id": "0a5fac8e-94c1-4b1d-ab4a-21c5007896cd",
   "metadata": {},
   "outputs": [
    {
     "data": {
      "text/plain": [
       "132685"
      ]
     },
     "execution_count": 7,
     "metadata": {},
     "output_type": "execute_result"
    }
   ],
   "source": [
    "len(df)"
   ]
  },
  {
   "cell_type": "code",
   "execution_count": 8,
   "id": "92ecaa79-168b-4a2e-a06f-a98dcea5e04b",
   "metadata": {
    "collapsed": true,
    "jupyter": {
     "outputs_hidden": true
    }
   },
   "outputs": [
    {
     "name": "stdout",
     "output_type": "stream",
     "text": [
      "fold: 0\n",
      "n train: 22115\n",
      "[22110 22111 22112 22113 22114]\n",
      "n test: 22114\n",
      "[44224 44225 44226 44227 44228]\n",
      "\n",
      "fold: 1\n",
      "n train: 44229\n",
      "[44224 44225 44226 44227 44228]\n",
      "n test: 22114\n",
      "[66338 66339 66340 66341 66342]\n",
      "\n",
      "fold: 2\n",
      "n train: 66343\n",
      "[66338 66339 66340 66341 66342]\n",
      "n test: 22114\n",
      "[88452 88453 88454 88455 88456]\n",
      "\n",
      "fold: 3\n",
      "n train: 88457\n",
      "[88452 88453 88454 88455 88456]\n",
      "n test: 22114\n",
      "[110566 110567 110568 110569 110570]\n",
      "\n",
      "fold: 4\n",
      "n train: 110571\n",
      "[110566 110567 110568 110569 110570]\n",
      "n test: 22114\n",
      "[132680 132681 132682 132683 132684]\n",
      "\n"
     ]
    }
   ],
   "source": [
    "# Rolling Window Cross-Validation\n",
    "tscv = TimeSeriesSplit(n_splits=5)  \n",
    "all_metrics = []  \n",
    "\n",
    "for i, (train_index, test_index) in enumerate(tscv.split(df)):\n",
    "    df_train, df_test = df.iloc[train_index], df.iloc[test_index]\n",
    "    print('fold:', i)\n",
    "    print('n train:', len(train_index))\n",
    "    print(train_index[-5:])\n",
    "    print('n test:', len(test_index))\n",
    "    print(test_index[-5:])\n",
    "    print()"
   ]
  },
  {
   "cell_type": "code",
   "execution_count": null,
   "id": "06ddcb6f-b529-45a3-aad5-f918a00e7e4b",
   "metadata": {},
   "outputs": [],
   "source": []
  },
  {
   "cell_type": "code",
   "execution_count": 15,
   "id": "5ecdde1e-e80f-41be-acd3-20841f71cd99",
   "metadata": {},
   "outputs": [],
   "source": [
    "def sum_two(x, y):\n",
    "    print('x', x)\n",
    "    print('y', y)\n",
    "    print()\n",
    "    return x+y"
   ]
  },
  {
   "cell_type": "code",
   "execution_count": 16,
   "id": "dec3e003-8cf7-4a26-883a-7d1b1698c3fb",
   "metadata": {},
   "outputs": [],
   "source": [
    "xs = [1,2,3]\n",
    "ys = [1,2,3]"
   ]
  },
  {
   "cell_type": "code",
   "execution_count": 17,
   "id": "85374c63-5379-43d1-a3a7-434d2558283b",
   "metadata": {},
   "outputs": [
    {
     "name": "stdout",
     "output_type": "stream",
     "text": [
      "x 1\n",
      "y 1\n",
      "\n",
      "x 1\n",
      "y 2\n",
      "\n",
      "x 1\n",
      "y 3\n",
      "\n",
      "x 2\n",
      "y 1\n",
      "\n",
      "x 2\n",
      "y 2\n",
      "\n",
      "x 2\n",
      "y 3\n",
      "\n",
      "x 3\n",
      "y 1\n",
      "\n",
      "x 3\n",
      "y 2\n",
      "\n",
      "x 3\n",
      "y 3\n",
      "\n"
     ]
    },
    {
     "data": {
      "text/plain": [
       "[2, 3, 4, 3, 4, 5, 4, 5, 6]"
      ]
     },
     "execution_count": 17,
     "metadata": {},
     "output_type": "execute_result"
    }
   ],
   "source": [
    "[sum_two(x, y) for x in xs for y in ys]"
   ]
  },
  {
   "cell_type": "code",
   "execution_count": null,
   "id": "4d5f3197-21a0-4daa-ae7c-a295a190a6de",
   "metadata": {},
   "outputs": [],
   "source": []
  }
 ],
 "metadata": {
  "kernelspec": {
   "display_name": "computer-viz-dl",
   "language": "python",
   "name": "computer-viz-dl"
  },
  "language_info": {
   "codemirror_mode": {
    "name": "ipython",
    "version": 3
   },
   "file_extension": ".py",
   "mimetype": "text/x-python",
   "name": "python",
   "nbconvert_exporter": "python",
   "pygments_lexer": "ipython3",
   "version": "3.9.18"
  }
 },
 "nbformat": 4,
 "nbformat_minor": 5
}
