{
 "cells": [
  {
   "cell_type": "code",
   "execution_count": 1,
   "id": "28c4f436-dfdb-4346-bf5e-8b8ff49572b8",
   "metadata": {},
   "outputs": [],
   "source": [
    "from redis import Redis"
   ]
  },
  {
   "cell_type": "code",
   "execution_count": 4,
   "id": "50b28660-9aef-44d8-8a69-780d2e5fae72",
   "metadata": {},
   "outputs": [],
   "source": [
    "redis_client = Redis(host='redis', port='6379', db=3)"
   ]
  },
  {
   "cell_type": "code",
   "execution_count": 5,
   "id": "75d5ade6-094f-4657-81cf-92a9ccc57d46",
   "metadata": {},
   "outputs": [
    {
     "data": {
      "text/plain": [
       "True"
      ]
     },
     "execution_count": 5,
     "metadata": {},
     "output_type": "execute_result"
    }
   ],
   "source": [
    "redis_client.set('status', 'running...')"
   ]
  },
  {
   "cell_type": "code",
   "execution_count": 6,
   "id": "c771f220-4506-4286-94d9-9335cafaa5c2",
   "metadata": {},
   "outputs": [
    {
     "data": {
      "text/plain": [
       "b'running...'"
      ]
     },
     "execution_count": 6,
     "metadata": {},
     "output_type": "execute_result"
    }
   ],
   "source": [
    "redis_client.get('status')"
   ]
  },
  {
   "cell_type": "code",
   "execution_count": null,
   "id": "620110e4-d511-4c93-ad85-c0f8381d5147",
   "metadata": {},
   "outputs": [],
   "source": []
  }
 ],
 "metadata": {
  "kernelspec": {
   "display_name": "computer-viz-dl",
   "language": "python",
   "name": "computer-viz-dl"
  },
  "language_info": {
   "codemirror_mode": {
    "name": "ipython",
    "version": 3
   },
   "file_extension": ".py",
   "mimetype": "text/x-python",
   "name": "python",
   "nbconvert_exporter": "python",
   "pygments_lexer": "ipython3",
   "version": "3.9.18"
  }
 },
 "nbformat": 4,
 "nbformat_minor": 5
}
